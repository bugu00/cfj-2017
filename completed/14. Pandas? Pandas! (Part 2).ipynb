{
 "cells": [
  {
   "cell_type": "markdown",
   "metadata": {},
   "source": [
    "# More fun with `pandas`\n",
    "\n",
    "Let's use `pandas` to dive into some more complicated data."
   ]
  },
  {
   "cell_type": "markdown",
   "metadata": {},
   "source": [
    "### The data\n",
    "\n",
    "We're going to be working with FDA import refusal data from 2014 to September 2017. [From the source](https://www.accessdata.fda.gov/scripts/importrefusals/):\n",
    "\n",
    ">The Food, Drug, and Cosmetic Act (the Act) authorizes FDA to detain a regulated product that appears to be out of compliance with the Act. The FDA district office will then issue a \"Notice of FDA Action\" specifying the nature of the violation to the owner or consignee. The owner or consignee is entitled to an informal hearing in order to provide testimony regarding the admissibility of the product. If the owner fails to submit evidence that the product is in compliance or fails to submit a plan to bring the product into compliance, FDA will issue another \"Notice of FDA Action\" refusing admission to the product. The product then has to be exported or destroyed within 90 days.\n",
    "\n",
    "Here's the layout for the main file:\n",
    "\n",
    "Column | Description\n",
    "------ | -----------\n",
    "MFG_FIRM_FEI_NUM |\n",
    "LGL_NAME | Name of the Declared Manufacturer\n",
    "LINE1_ADRS | Manufacturer Address\n",
    "LINE2_ADRS | Manufacturer Address\n",
    "CITY_NAME | Manufacturer City\n",
    "PROVINCE_STATE | Manufacturer Province or State\n",
    "ISO_CNTRY_CODE | 2 Letter ISO country code\n",
    "PRODUCT_CODE | 5-7 Character product code\n",
    "REFUSAL_DATE |\n",
    "DISTRICT | FDA District where entry was made\n",
    "ENTRY_NUM | CBP Entry Number\n",
    "RFRNC_DOC_ID | CBP Line Number\n",
    "LINE_NUM | FDA Line number\n",
    "LINE_SFX_ID | FDA Line Suffix\n",
    "FDA_SAMPLE_ANALYSIS | Y if there are FDA Analytical Results\n",
    "PRIVATE_LAB_ANALYSIS | Y if there was a Private Lab package\n",
    "REFUSAL_CHARGES | asc_id’s (1 to many) of the charges for which product was refused. If there are multiple they will be separated by a comma e.g. 320, 328, 321, 482, 218, 3320\n",
    "PROD_CODE_DESC_TEXT | FDA's or Corrected Description\n"
   ]
  },
  {
   "cell_type": "markdown",
   "metadata": {},
   "source": [
    "### Come up with a list of questions to ask\n",
    "\n",
    "As with any tool, your analysis is only as good as your questions. We'll start with a couple easy ones:\n",
    "\n",
    "- In this time period, which country had the most imports refused? (`ISO_CNTRY_CODE`)\n",
    "- Which company had the most? (`MFG_FIRM_FEI_NUM`)\n",
    "- What was the most common reason for refusing a product? (`REFUSAL_CHARGES`)\n",
    "\n",
    "Let's get started!"
   ]
  },
  {
   "cell_type": "markdown",
   "metadata": {},
   "source": [
    "### Import pandas"
   ]
  },
  {
   "cell_type": "code",
   "execution_count": null,
   "metadata": {
    "collapsed": true
   },
   "outputs": [],
   "source": [
    "import pandas as pd"
   ]
  },
  {
   "cell_type": "markdown",
   "metadata": {},
   "source": [
    "### Load the data into data frames\n",
    "\n",
    "We'll use the [`read_csv()`](https://pandas.pydata.org/pandas-docs/stable/generated/pandas.read_csv.html) method to read in the data files:\n",
    "\n",
    "- `data/import-refusal.csv` => the main data file\n",
    "- `data/import-refusal-charge-codes.csv` => refusal code lookup file\n",
    "- `data/country-codes.csv` => country code lookup file ([via](https://github.com/datasets/country-codes/blob/master/data/country-codes.csv))"
   ]
  },
  {
   "cell_type": "code",
   "execution_count": null,
   "metadata": {
    "collapsed": true
   },
   "outputs": [],
   "source": [
    "# to avoid errors with the FDA files, we're going to specify the encoding\n",
    "# as latin_1, which is common with gov't data, so it's\n",
    "# a decent educated guess to start with\n",
    "\n",
    "# main dataframe\n",
    "df = pd.read_csv('data/import-refusal.csv', encoding='latin_1')\n",
    "\n",
    "# country code lookup dataframe\n",
    "cc_df = pd.read_csv('data/country-codes.csv', header=None, names=['name', 'code'])\n",
    "\n",
    "# refusal code lookup dataframe\n",
    "# specify that the 'ASC_ID' column comes in as a string\n",
    "# because later we're going to join on it\n",
    "code_df = pd.read_csv('data/import-refusal-charge-codes.csv', encoding='latin_1',\n",
    "                      dtype={'ASC_ID': str})"
   ]
  },
  {
   "cell_type": "code",
   "execution_count": null,
   "metadata": {},
   "outputs": [],
   "source": [
    "# run `.head()` to check the output\n",
    "df.head()"
   ]
  },
  {
   "cell_type": "markdown",
   "metadata": {},
   "source": [
    "### Convert the date field to native datetime\n",
    "\n",
    "We'll use the [`to_datetime()`](http://pandas.pydata.org/pandas-docs/version/0.20/generated/pandas.to_datetime.html) method to convert the `REFUSAL_DATE` column from string to `datetime`. ([Via this S/O answer](https://stackoverflow.com/a/26763793))\n",
    "\n",
    "Why? Later on we might want to do some time-based analysis."
   ]
  },
  {
   "cell_type": "code",
   "execution_count": null,
   "metadata": {},
   "outputs": [],
   "source": [
    "# convert the date strings to datetime\n",
    "df.REFUSAL_DATE = pd.to_datetime(df.REFUSAL_DATE)\n",
    "\n",
    "# make sure the conversion actually happened\n",
    "print(df.REFUSAL_DATE.dtype)"
   ]
  },
  {
   "cell_type": "code",
   "execution_count": null,
   "metadata": {},
   "outputs": [],
   "source": [
    "# run `.head()` to check the country code output\n",
    "cc_df.head()"
   ]
  },
  {
   "cell_type": "code",
   "execution_count": null,
   "metadata": {},
   "outputs": [],
   "source": [
    "# run `.head()` to check the output\n",
    "code_df.head()"
   ]
  },
  {
   "cell_type": "markdown",
   "metadata": {},
   "source": [
    "#### _Which country had the most imports refused?_\n",
    "\n",
    "Since we're just counting up how many times a value appears in a column, we can slice out the `ISO_CNTRY_CODE` column as a series and use the Series method [`value_counts()`](https://pandas.pydata.org/pandas-docs/stable/generated/pandas.Series.value_counts.html).\n",
    "\n",
    "Then we can use the [`reset_index()`](https://pandas.pydata.org/pandas-docs/stable/generated/pandas.DataFrame.reset_index.html) method to turn the Series into a DataFrame and merge with our data frame of country codes."
   ]
  },
  {
   "cell_type": "code",
   "execution_count": null,
   "metadata": {},
   "outputs": [],
   "source": [
    "cntry_counts = df['ISO_CNTRY_CODE'].value_counts() \\\n",
    "                                   .reset_index() \\\n",
    "                                   .rename(columns={'index': 'cntry_code', 'ISO_CNTRY_CODE': 'count'})\n",
    "\n",
    "merged_cntry_counts = cntry_counts.merge(cc_df, left_on='cntry_code', right_on='code', how='left')\n",
    "\n",
    "merged_cntry_counts[['code', 'name', 'count']].head()"
   ]
  },
  {
   "cell_type": "markdown",
   "metadata": {},
   "source": [
    "Now we have some follow-up questions. (Why, for instance, are we seeing U.S. companies in there?)"
   ]
  },
  {
   "cell_type": "markdown",
   "metadata": {},
   "source": [
    "#### _Which company had the most import refusals?_\n",
    "\n",
    "For this one, we're going to use the [`groupby()`](https://pandas.pydata.org/pandas-docs/stable/generated/pandas.DataFrame.groupby.html) function and group by two columns: `MFG_FIRM_FEI_NUM` and `LGL_NAME`.\n",
    "\n",
    "Then we're going to use the [`size()`](https://pandas.pydata.org/pandas-docs/stable/generated/pandas.core.groupby.GroupBy.size.html) method to compute counts for each group.\n",
    "\n",
    "Then we're going to use [`reset_index()`](https://pandas.pydata.org/pandas-docs/stable/generated/pandas.DataFrame.reset_index.html) to turn the Series into a data frame.\n",
    "\n",
    "Then, after renaming the count column, we're going to sort by count descending."
   ]
  },
  {
   "cell_type": "code",
   "execution_count": null,
   "metadata": {},
   "outputs": [],
   "source": [
    "df.groupby(['MFG_FIRM_FEI_NUM', 'LGL_NAME']).size() \\\n",
    "                                            .reset_index() \\\n",
    "                                            .rename(columns={0: 'count'}) \\\n",
    "                                            .sort_values('count', ascending=False).head()"
   ]
  },
  {
   "cell_type": "markdown",
   "metadata": {},
   "source": [
    "**Filtering!**\n",
    "\n",
    "Let's take a closer look at the records of \"DreamCon Co. Ltd.\" That means _filtering_ our data.\n",
    "\n",
    "We want to include only records where the `MFG_FIRM_FEI_NUM` is 3010460316. In Python, remember, you use two equals signs to test equality. So our filtering condition is: `df['MFG_FIRM_FEI_NUM'] == 3010460316`. This is the expression that we pass to the data frame inside square brackets."
   ]
  },
  {
   "cell_type": "code",
   "execution_count": null,
   "metadata": {},
   "outputs": [],
   "source": [
    "freq_flier = df[df['MFG_FIRM_FEI_NUM'] == 3010460316]\n",
    "\n",
    "freq_flier.head()"
   ]
  },
  {
   "cell_type": "markdown",
   "metadata": {},
   "source": [
    "#### _What was the most common reason for refusing a product?_\n",
    "\n",
    "This one will be a little trickier to handle, because the cells in the `REFUSAL_CHARGES` column have a variable number of (comma-separated) refusal codes.\n",
    "\n",
    "So the thinking here is, we need to:\n",
    "- Unravel that column into a flat list of codes. We're going to use our friend `split` to turn the string into a list\n",
    "- Using a list comprehension, iterate over that Series and flatten the lists into one Series\n",
    "- Count the frequency of each code using the `value_counts()` method\n",
    "- Turn the Series into a dataframe with `reset_index()`\n",
    "- Join that dataframe with the code lookup dataframe"
   ]
  },
  {
   "cell_type": "code",
   "execution_count": null,
   "metadata": {},
   "outputs": [],
   "source": [
    "r_codes = df.REFUSAL_CHARGES.str.split(', ', expand=False)\n",
    "\n",
    "code_counts = pd.Series([st for row in r_codes for st in row]).value_counts() \\\n",
    "                                                              .reset_index() \\\n",
    "                                                              .rename(columns={\"index\": \"code\", 0: \"count\"})\n",
    "\n",
    "merged = code_counts.merge(code_df, left_on='code', right_on='ASC_ID', how='left')\n",
    "\n",
    "merged_slim = merged[['code', 'ASC_ID', 'CHRG_CODE', 'CHRG_STMNT_TEXT', 'SCTN_NAME', 'count']]\n",
    "\n",
    "merged_slim.head()"
   ]
  },
  {
   "cell_type": "markdown",
   "metadata": {},
   "source": [
    "### Exporting to a CSV\n",
    "\n",
    "Let's say you wanted to take the merged summary data frame we just merged and write it out to CSV? There's a really simple method for that: [`to_csv()`](https://pandas.pydata.org/pandas-docs/stable/generated/pandas.DataFrame.to_csv.html). We're going to specify `index=False` because we don't need the pandas-generated index in the first column."
   ]
  },
  {
   "cell_type": "code",
   "execution_count": null,
   "metadata": {
    "collapsed": true
   },
   "outputs": [],
   "source": [
    "merged_slim.to_csv('merged-refusal-data.csv', index=False)"
   ]
  },
  {
   "cell_type": "markdown",
   "metadata": {
    "collapsed": true
   },
   "source": [
    "### _Exercises_\n",
    "\n",
    "Let's come up with some more reporting questions and explore them together. What if we wanted to find the top country or company by year?"
   ]
  },
  {
   "cell_type": "code",
   "execution_count": null,
   "metadata": {
    "collapsed": true
   },
   "outputs": [],
   "source": []
  }
 ],
 "metadata": {
  "kernelspec": {
   "display_name": "Python 3",
   "language": "python",
   "name": "python3"
  },
  "language_info": {
   "codemirror_mode": {
    "name": "ipython",
    "version": 3
   },
   "file_extension": ".py",
   "mimetype": "text/x-python",
   "name": "python",
   "nbconvert_exporter": "python",
   "pygments_lexer": "ipython3",
   "version": "3.6.2"
  }
 },
 "nbformat": 4,
 "nbformat_minor": 2
}
