{
 "cells": [
  {
   "cell_type": "markdown",
   "metadata": {},
   "source": [
    "# Geocoding\n",
    "\n",
    "Geocoding is the process of turning an address -- `'3020 W Colorado Ave, Colorado Springs, CO 80904'` -- into a latitude/longitude coordinate pair. You'd need to do this if you wanted to do some geospatial analysis or make an interactive map or something.\n",
    "\n",
    "We're going to use the [`geopy`](https://geopy.readthedocs.io/en/1.10.0/) library to geocode a CSV of payday lenders in Illinois. The data file is at `data/payday.csv`.\n",
    "\n",
    "Once we have the coordinates, we're going to tack on those columns and write out to a new file, `payday-geocoded.csv`."
   ]
  },
  {
   "cell_type": "code",
   "execution_count": null,
   "metadata": {},
   "outputs": [],
   "source": [
    "# import the Google geocoder from geopy\n",
    "# import Python's csv and time libaries\n",
    "from geopy.geocoders import GoogleV3\n",
    "import csv\n",
    "import time\n",
    "\n",
    "# Make a geolocator object\n",
    "# Set the `timeout` keyword argument to 5 (seconds)\n",
    "geolocator = GoogleV3(timeout=5)\n",
    "\n",
    "# in a `with` block, open the file to read from and the file to write to\n",
    "with open('data/payday.csv', 'r') as infile, open('payday-geocoded.csv', 'w') as outfile:    \n",
    "    \n",
    "    # make a DictReader object\n",
    "    reader = csv.DictReader(infile)\n",
    "    \n",
    "    # define the headers\n",
    "    headers = reader.fieldnames + ['lat', 'lng']\n",
    "    \n",
    "    # make a DictWriter object\n",
    "    writer = csv.DictWriter(outfile, fieldnames=headers)\n",
    "    \n",
    "    # write headers\n",
    "    writer.writeheader()\n",
    "    \n",
    "    # loop over address data\n",
    "    # i'm adding a thing to keep track of where we're at\n",
    "    # so we can kill the loop after 5 iterations\n",
    "    # that way we don't bombard google and get cut off\n",
    "    for i, row in enumerate(reader):\n",
    "        \n",
    "        if i < 5:\n",
    "\n",
    "            # Put the address in a Google-recognizable string: ADDRESS, CITY, STATE ZIP\n",
    "            addr = '{} {} {}, {}, {}'.format(\n",
    "                row['STADDR'].strip(),\n",
    "                row['STADDR2'].strip(),\n",
    "                row['CITY'],\n",
    "                row['STATE'],\n",
    "                row['ZIP']\n",
    "            )\n",
    "\n",
    "            # Geocode that string\n",
    "            location = geolocator.geocode(addr)\n",
    "\n",
    "            # print the address and results\n",
    "            print(addr, location.latitude, location.longitude)\n",
    "            \n",
    "            # write out a new dict\n",
    "            writer.writerow({\n",
    "                **row,\n",
    "                **{'lat': location.latitude, 'lng': location.longitude}\n",
    "            })\n",
    "\n",
    "            # Before we do all of this with the next row, pause for two seconds.\n",
    "            time.sleep(2)\n",
    "            \n",
    "        else:\n",
    "            # once we hit 5, break out of the loop\n",
    "            break\n",
    "\n",
    "# let us know when we're done\n",
    "print('All done!')"
   ]
  },
  {
   "cell_type": "code",
   "execution_count": null,
   "metadata": {
    "collapsed": true
   },
   "outputs": [],
   "source": []
  }
 ],
 "metadata": {
  "kernelspec": {
   "display_name": "Python 3",
   "language": "python",
   "name": "python3"
  },
  "language_info": {
   "codemirror_mode": {
    "name": "ipython",
    "version": 3
   },
   "file_extension": ".py",
   "mimetype": "text/x-python",
   "name": "python",
   "nbconvert_exporter": "python",
   "pygments_lexer": "ipython3",
   "version": "3.6.2"
  }
 },
 "nbformat": 4,
 "nbformat_minor": 2
}
