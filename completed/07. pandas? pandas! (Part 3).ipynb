{
 "cells": [
  {
   "cell_type": "markdown",
   "metadata": {},
   "source": [
    "# Simple charts in `pandas`\n",
    "\n",
    "In this session, we're gonna revisit our MLB data to rock a quick chart in `pandas`. Our goal: A horizontal bar chart of the top 10 teams by payroll."
   ]
  },
  {
   "cell_type": "markdown",
   "metadata": {
    "collapsed": true
   },
   "source": [
    "### Import `pandas` and a some chart formatting help"
   ]
  },
  {
   "cell_type": "code",
   "execution_count": null,
   "metadata": {
    "collapsed": true
   },
   "outputs": [],
   "source": [
    "import pandas as pd\n",
    "\n",
    "# import a ticker formatting class from matplotlib\n",
    "from matplotlib.ticker import FuncFormatter\n",
    "\n",
    "# import pylab and set the default chart size\n",
    "# via https://txt.arboreus.com/2012/12/13/change-figure-size-in-ipython-notebook-sessions.html\n",
    "import matplotlib.pylab as pylab\n",
    "pylab.rcParams['figure.figsize'] = 14, 6"
   ]
  },
  {
   "cell_type": "markdown",
   "metadata": {
    "collapsed": true
   },
   "source": [
    "### Let Jupyter know that you're gonna be charting inline\n",
    "\n",
    "(Don't worry if you get a warning about building a font library.)"
   ]
  },
  {
   "cell_type": "code",
   "execution_count": null,
   "metadata": {
    "collapsed": true
   },
   "outputs": [],
   "source": [
    "%matplotlib inline"
   ]
  },
  {
   "cell_type": "markdown",
   "metadata": {},
   "source": [
    "### Read in MLB data"
   ]
  },
  {
   "cell_type": "code",
   "execution_count": null,
   "metadata": {},
   "outputs": [],
   "source": [
    "# create a data frame\n",
    "df = pd.read_csv('data/mlb.csv')\n",
    "\n",
    "# use head to check it out\n",
    "df.head()"
   ]
  },
  {
   "cell_type": "markdown",
   "metadata": {},
   "source": [
    "### Prep data for charting\n",
    "\n",
    "Let's chart total team payroll, most to least. Let's repeat the grouping we did before."
   ]
  },
  {
   "cell_type": "code",
   "execution_count": null,
   "metadata": {},
   "outputs": [],
   "source": [
    "# group by team, aggregate on sum\n",
    "grouped_by_team = df[['TEAM', 'SALARY']].groupby('TEAM') \\\n",
    "                                        .sum() \\\n",
    "                                        .reset_index() \\\n",
    "                                        .set_index('TEAM') \\\n",
    "                                        .sort_values('SALARY', ascending=False)\n",
    "\n",
    "# get top 10\n",
    "top_10 = grouped_by_team.head(10)\n",
    "\n",
    "top_10"
   ]
  },
  {
   "cell_type": "markdown",
   "metadata": {},
   "source": [
    "### Make a horizonal bar chart"
   ]
  },
  {
   "cell_type": "code",
   "execution_count": null,
   "metadata": {},
   "outputs": [],
   "source": [
    "# make a horizontal bar chart\n",
    "bar_chart = top_10.plot.barh()\n",
    "\n",
    "# sort the bars top to bottom\n",
    "bar_chart.invert_yaxis()\n",
    "\n",
    "# set the title\n",
    "bar_chart.set_title('Top 10 opening day MLB payrolls, 2017')\n",
    "\n",
    "# kill the legend\n",
    "bar_chart.legend_.remove()\n",
    "\n",
    "# kill y axis label\n",
    "bar_chart.set_ylabel('')\n",
    "\n",
    "# define a function to format x axis ticks\n",
    "# otherwise they'd all run together (100000000)\n",
    "# via https://stackoverflow.com/a/46454637\n",
    "def millions(num, pos, m=1000000):\n",
    "    if num % m == 0:\n",
    "        num = int(num/m)\n",
    "    else:\n",
    "        num = float(num/m)\n",
    "    \n",
    "    return '${}M'.format(num)\n",
    "\n",
    "# format the x axis ticks using the function we just defined\n",
    "bar_chart.xaxis.set_major_formatter(FuncFormatter(millions))"
   ]
  },
  {
   "cell_type": "markdown",
   "metadata": {
    "collapsed": true
   },
   "source": [
    "### Exercise: Gussy up that chart\n",
    "\n",
    "Using your Google-fu and perusing the [matplotlib](https://matplotlib.org/) documentation, play around with different chart options. Maybe make the bars a different color. Change the font. Change the [default stylesheet](https://matplotlib.org/users/style_sheets.html). Go nuts!"
   ]
  }
 ],
 "metadata": {
  "kernelspec": {
   "display_name": "Python 3",
   "language": "python",
   "name": "python3"
  },
  "language_info": {
   "codemirror_mode": {
    "name": "ipython",
    "version": 3
   },
   "file_extension": ".py",
   "mimetype": "text/x-python",
   "name": "python",
   "nbconvert_exporter": "python",
   "pygments_lexer": "ipython3",
   "version": "3.6.2"
  }
 },
 "nbformat": 4,
 "nbformat_minor": 2
}
