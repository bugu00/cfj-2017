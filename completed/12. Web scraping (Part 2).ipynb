{
 "cells": [
  {
   "cell_type": "markdown",
   "metadata": {},
   "source": [
    "# Let's scrape a practice table\n",
    "\n",
    "The latest Mountain Goats album is called [Goths](https://pitchfork.com/reviews/albums/23153-goths/). (It's good!) I made a simple HTML table with the track listing -- let's scrape it into a CSV."
   ]
  },
  {
   "cell_type": "markdown",
   "metadata": {},
   "source": [
    "### Import the modules we'll need"
   ]
  },
  {
   "cell_type": "code",
   "execution_count": 1,
   "metadata": {
    "collapsed": true
   },
   "outputs": [],
   "source": [
    "from bs4 import BeautifulSoup\n",
    "import csv"
   ]
  },
  {
   "cell_type": "markdown",
   "metadata": {},
   "source": [
    "### Read in the file, see what we're working with\n",
    "\n",
    "We'll use the `read()` method to get the contents of the file."
   ]
  },
  {
   "cell_type": "code",
   "execution_count": 5,
   "metadata": {},
   "outputs": [
    {
     "name": "stdout",
     "output_type": "stream",
     "text": [
      "<html>\n",
      "<table id=\"empty-table-to-throw-you-off\"></table>\n",
      "<table class=\"song-table\" id=\"my-cool-table\" style=\"width: 95%;\">\n",
      "  <thead>\n",
      "    <tr>\n",
      "      <th>Track Number</th>\n",
      "      <th>Song Title</th>\n",
      "      <th>Duration</th>\n",
      "      <th>Artist</th>\n",
      "      <th>Album</th>\n",
      "    </tr>\n",
      "  </thead>\n",
      "  <tbody>\n",
      "    <tr>\n",
      "      <td>1</td>\n",
      "      <td>Rain in Soho</td>\n",
      "      <td>4:47</td>\n",
      "      <td>The Mountain Goats</td>\n",
      "      <td>Goths</td>\n",
      "    </tr>\n",
      "    <tr>\n",
      "      <td>2</td>\n",
      "      <td>Andrew Eldritch is Moving Back to Leeds</td>\n",
      "      <td>4:19</td>\n",
      "      <td>The Mountain Goats</td>\n",
      "      <td>Goths</td>\n",
      "    </tr>\n",
      "    <tr>\n",
      "      <td>3</td>\n",
      "      <td>The Grey King and the Silver Flame Attunement</td>\n",
      "      <td>4:55</td>\n",
      "      <td>The Mountain Goats</td>\n",
      "      <td>Goths</td>\n",
      "    </tr>\n",
      "    <tr>\n",
      "      <td>4</td>\n",
      "      <td>We Do it Different on the West Coast</td>\n",
      "      <td>5:21</td>\n",
      "      <td>The Mountain Goats</td>\n",
      "      <td>Goths</td>\n",
      "    </tr>\n",
      "    <tr>\n",
      "      <td>5</td>\n",
      "      <td>Unicorn Tolerance</td>\n",
      "      <td>5:25</td>\n",
      "      <td>The Mountain Goats</td>\n",
      "      <td>Goths</td>\n",
      "    </tr>\n",
      "    <tr>\n",
      "      <td>6</td>\n",
      "      <td>Stench of the Unburied</td>\n",
      "      <td>4:30</td>\n",
      "      <td>The Mountain Goats</td>\n",
      "      <td>Goths</td>\n",
      "    </tr>\n",
      "    <tr>\n",
      "      <td>7</td>\n",
      "      <td>Wear Black</td>\n",
      "      <td>4:11</td>\n",
      "      <td>The Mountain Goats</td>\n",
      "      <td>Goths</td>\n",
      "    </tr>\n",
      "    <tr>\n",
      "      <td>8</td>\n",
      "      <td>Paid in Cocaine</td>\n",
      "      <td>3:58</td>\n",
      "      <td>The Mountain Goats</td>\n",
      "      <td>Goths</td>\n",
      "    </tr>\n",
      "    <tr>\n",
      "      <td>9</td>    \n",
      "      <td>Rage of Travers</td>\n",
      "      <td>5:55</td>\n",
      "      <td>The Mountain Goats</td>\n",
      "      <td>Goths</td>\n",
      "    </tr>\n",
      "    <tr>\n",
      "      <td>10</td>\n",
      "      <td>Shelved</td>\n",
      "      <td>4:02</td>\n",
      "      <td>The Mountain Goats</td>\n",
      "      <td>Goths</td>\n",
      "    </tr>\n",
      "    <tr>\n",
      "      <td>11</td>\n",
      "      <td>For the Portuguese Goths Metal Bands</td>\n",
      "      <td>4:10</td>\n",
      "      <td>The Mountain Goats</td>\n",
      "      <td>Goths</td>\n",
      "    </tr>\n",
      "    <tr>\n",
      "      <td>12</td>\n",
      "      <td>Abandoned Flesh</td>\n",
      "      <td>3:42</td>\n",
      "      <td>The Mountain Goats</td>\n",
      "      <td>Goths</td>\n",
      "    </tr>\n",
      "  </tbody>\n",
      "</table>\n",
      "</html>\n"
     ]
    }
   ],
   "source": [
    "# in a with block, open the HTML file\n",
    "with open('mountain-goats.html', 'r') as html_file:\n",
    "    \n",
    "    # .read() in the contents of a file -- it'll be a string\n",
    "    html_code = html_file.read()\n",
    "\n",
    "    # print the string to see what's there\n",
    "    print(html_code)"
   ]
  },
  {
   "cell_type": "markdown",
   "metadata": {},
   "source": [
    "### Parse the table with BeautifulSoup\n",
    "\n",
    "Right now, Python isn't interpreting our table as _data_ -- it's just a string. We need to use BeautifulSoup to parse that string into data objects that Python can understand. Once the string is parsed, we'll be working with a \"tree\" of data that we can navigate."
   ]
  },
  {
   "cell_type": "code",
   "execution_count": 6,
   "metadata": {},
   "outputs": [
    {
     "name": "stdout",
     "output_type": "stream",
     "text": [
      "<class 'str'>\n",
      "<class 'bs4.BeautifulSoup'>\n"
     ]
    }
   ],
   "source": [
    "with open('mountain-goats.html', 'r') as html_file:\n",
    "    html_code = html_file.read()\n",
    "    \n",
    "    # use the type() function to see what kind of object `html_code` is\n",
    "    print(type(html_code))\n",
    "    \n",
    "    # feed the file's contents (the string of HTML) to BeautifulSoup\n",
    "    # will complain if you don't specify the parser\n",
    "    soup = BeautifulSoup(html_code, 'html.parser')\n",
    "\n",
    "    # use the type() function to see what kind of object `soup` is\n",
    "    print(type(soup))"
   ]
  },
  {
   "cell_type": "markdown",
   "metadata": {},
   "source": [
    "### Decide how to target the table\n",
    "\n",
    "BeautifulSoup has several methods for targeting elements -- by position on the page, by attribute, etc. Right now we just want to find the correct table."
   ]
  },
  {
   "cell_type": "code",
   "execution_count": 8,
   "metadata": {},
   "outputs": [
    {
     "name": "stdout",
     "output_type": "stream",
     "text": [
      "<table class=\"song-table\" id=\"my-cool-table\" style=\"width: 95%;\">\n",
      "<thead>\n",
      "<tr>\n",
      "<th>Track Number</th>\n",
      "<th>Song Title</th>\n",
      "<th>Duration</th>\n",
      "<th>Artist</th>\n",
      "<th>Album</th>\n",
      "</tr>\n",
      "</thead>\n",
      "<tbody>\n",
      "<tr>\n",
      "<td>1</td>\n",
      "<td>Rain in Soho</td>\n",
      "<td>4:47</td>\n",
      "<td>The Mountain Goats</td>\n",
      "<td>Goths</td>\n",
      "</tr>\n",
      "<tr>\n",
      "<td>2</td>\n",
      "<td>Andrew Eldritch is Moving Back to Leeds</td>\n",
      "<td>4:19</td>\n",
      "<td>The Mountain Goats</td>\n",
      "<td>Goths</td>\n",
      "</tr>\n",
      "<tr>\n",
      "<td>3</td>\n",
      "<td>The Grey King and the Silver Flame Attunement</td>\n",
      "<td>4:55</td>\n",
      "<td>The Mountain Goats</td>\n",
      "<td>Goths</td>\n",
      "</tr>\n",
      "<tr>\n",
      "<td>4</td>\n",
      "<td>We Do it Different on the West Coast</td>\n",
      "<td>5:21</td>\n",
      "<td>The Mountain Goats</td>\n",
      "<td>Goths</td>\n",
      "</tr>\n",
      "<tr>\n",
      "<td>5</td>\n",
      "<td>Unicorn Tolerance</td>\n",
      "<td>5:25</td>\n",
      "<td>The Mountain Goats</td>\n",
      "<td>Goths</td>\n",
      "</tr>\n",
      "<tr>\n",
      "<td>6</td>\n",
      "<td>Stench of the Unburied</td>\n",
      "<td>4:30</td>\n",
      "<td>The Mountain Goats</td>\n",
      "<td>Goths</td>\n",
      "</tr>\n",
      "<tr>\n",
      "<td>7</td>\n",
      "<td>Wear Black</td>\n",
      "<td>4:11</td>\n",
      "<td>The Mountain Goats</td>\n",
      "<td>Goths</td>\n",
      "</tr>\n",
      "<tr>\n",
      "<td>8</td>\n",
      "<td>Paid in Cocaine</td>\n",
      "<td>3:58</td>\n",
      "<td>The Mountain Goats</td>\n",
      "<td>Goths</td>\n",
      "</tr>\n",
      "<tr>\n",
      "<td>9</td>\n",
      "<td>Rage of Travers</td>\n",
      "<td>5:55</td>\n",
      "<td>The Mountain Goats</td>\n",
      "<td>Goths</td>\n",
      "</tr>\n",
      "<tr>\n",
      "<td>10</td>\n",
      "<td>Shelved</td>\n",
      "<td>4:02</td>\n",
      "<td>The Mountain Goats</td>\n",
      "<td>Goths</td>\n",
      "</tr>\n",
      "<tr>\n",
      "<td>11</td>\n",
      "<td>For the Portuguese Goths Metal Bands</td>\n",
      "<td>4:10</td>\n",
      "<td>The Mountain Goats</td>\n",
      "<td>Goths</td>\n",
      "</tr>\n",
      "<tr>\n",
      "<td>12</td>\n",
      "<td>Abandoned Flesh</td>\n",
      "<td>3:42</td>\n",
      "<td>The Mountain Goats</td>\n",
      "<td>Goths</td>\n",
      "</tr>\n",
      "</tbody>\n",
      "</table>\n"
     ]
    }
   ],
   "source": [
    "with open('mountain-goats.html', 'r') as html_file:\n",
    "    html_code = html_file.read()\n",
    "    soup = BeautifulSoup(html_code, 'html.parser')\n",
    "    \n",
    "    # by position on the page\n",
    "    # find_all returns a list of matching elements, and we want the second ([1]) one\n",
    "    # song_table = soup.find_all('table')[1]\n",
    "    \n",
    "    # by class name\n",
    "    # => with `find`, you can pass a dictionary of element attributes to match on\n",
    "    # song_table = soup.find('table', {'class': 'song-table'})\n",
    "    \n",
    "    # by ID\n",
    "    # song_table = soup.find('table', {'id': 'my-cool-table'})\n",
    "    \n",
    "    # by style\n",
    "    song_table = soup.find('table', {'style': 'width: 95%;'})\n",
    "    \n",
    "    print(song_table)"
   ]
  },
  {
   "cell_type": "markdown",
   "metadata": {},
   "source": [
    "### Looping over the table rows\n",
    "\n",
    "Let's print a list of track numbers and song titles. Look at the structure of the table -- a table has rows represented by the tag `tr`, and within each row there are cells represented by `td` tags. The `find_all()` method returns a list. And we know how to iterate over lists: with a for loop. Let's do that."
   ]
  },
  {
   "cell_type": "code",
   "execution_count": 15,
   "metadata": {},
   "outputs": [
    {
     "name": "stdout",
     "output_type": "stream",
     "text": [
      "1 Rain in Soho\n",
      "2 Andrew Eldritch is Moving Back to Leeds\n",
      "3 The Grey King and the Silver Flame Attunement\n",
      "4 We Do it Different on the West Coast\n",
      "5 Unicorn Tolerance\n",
      "6 Stench of the Unburied\n",
      "7 Wear Black\n",
      "8 Paid in Cocaine\n",
      "9 Rage of Travers\n",
      "10 Shelved\n",
      "11 For the Portuguese Goths Metal Bands\n",
      "12 Abandoned Flesh\n"
     ]
    }
   ],
   "source": [
    "with open('mountain-goats.html', 'r') as html_file:\n",
    "    html_code = html_file.read()\n",
    "    soup = BeautifulSoup(html_code, 'html.parser')\n",
    "    song_table = soup.find('table', {'style': 'width: 95%;'})\n",
    "    \n",
    "    # find the rows in the table\n",
    "    # slice to skip the header row\n",
    "    song_rows = song_table.find_all('tr')[1:]\n",
    "    \n",
    "    # loop over the rows\n",
    "    for row in song_rows:\n",
    "\n",
    "        # get the table cells in the row\n",
    "        song = row.find_all('td')\n",
    "        \n",
    "        # assign them to variables\n",
    "        track, title, duration, artist, album = song\n",
    "        \n",
    "        # use the .string attribute to get the text in the cell\n",
    "        print(track.string, title.string)"
   ]
  },
  {
   "cell_type": "markdown",
   "metadata": {},
   "source": [
    "### Write data to file\n",
    "\n",
    "Let's put it all together and open a file to write the data to."
   ]
  },
  {
   "cell_type": "code",
   "execution_count": 16,
   "metadata": {
    "collapsed": true
   },
   "outputs": [],
   "source": [
    "with open('mountain-goats.html', 'r') as html_file, open('mountain-goats.csv', 'w') as outfile:\n",
    "    html_code = html_file.read()\n",
    "    soup = BeautifulSoup(html_code, 'html.parser')\n",
    "    song_table = soup.find('table', {'style': 'width: 95%;'})\n",
    "    \n",
    "    song_rows = song_table.find_all('tr')[1:]\n",
    "    \n",
    "    # set up a writer object\n",
    "    writer = csv.DictWriter(outfile, fieldnames=['track', 'title', 'duration', 'artist', 'album'])\n",
    "    \n",
    "    writer.writeheader()\n",
    "    \n",
    "    for row in song_rows:\n",
    "\n",
    "        # get the table cells in the row\n",
    "        song = row.find_all('td')\n",
    "        \n",
    "        # assign them to variables\n",
    "        track, title, duration, artist, album = song\n",
    "        \n",
    "        # write out the dictionary to file\n",
    "        writer.writerow({\n",
    "            'track': track.string,\n",
    "            'title': title.string,\n",
    "            'duration': duration.string,\n",
    "            'artist': artist.string,\n",
    "            'album': album.string\n",
    "        })"
   ]
  }
 ],
 "metadata": {
  "kernelspec": {
   "display_name": "Python 3",
   "language": "python",
   "name": "python3"
  },
  "language_info": {
   "codemirror_mode": {
    "name": "ipython",
    "version": 3
   },
   "file_extension": ".py",
   "mimetype": "text/x-python",
   "name": "python",
   "nbconvert_exporter": "python",
   "pygments_lexer": "ipython3",
   "version": "3.6.2"
  }
 },
 "nbformat": 4,
 "nbformat_minor": 2
}
