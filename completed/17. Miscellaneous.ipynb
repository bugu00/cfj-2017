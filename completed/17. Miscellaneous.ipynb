{
 "cells": [
  {
   "cell_type": "markdown",
   "metadata": {},
   "source": [
    "# Miscellaneous Python things\n",
    "\n",
    "In this session, we'll talk about:\n",
    "\n",
    "- More control flow tools: [`try/except`](https://docs.python.org/3/tutorial/errors.html), [`break`](https://docs.python.org/3/reference/simple_stmts.html#the-break-statement) and [`continue`](https://docs.python.org/3/reference/simple_stmts.html#the-continue-statement)\n",
    "- A few other built-in Python functions\n",
    "- Installing third-party modules"
   ]
  },
  {
   "cell_type": "markdown",
   "metadata": {
    "collapsed": true
   },
   "source": [
    "### Handling errors with try/except\n",
    "\n",
    "Sometimes your script will throw errors. When it does, sometimes you want the script to continue after handling the error in some way. Let's take a look at some examples.\n",
    "\n",
    "What happens when we run the code below?"
   ]
  },
  {
   "cell_type": "code",
   "execution_count": null,
   "metadata": {
    "collapsed": true
   },
   "outputs": [],
   "source": [
    "humans = [\n",
    "    {'name': 'Cody', 'age': 32, 'job': 'Training director', 'height_in': 72},\n",
    "    {'name': 'Jeff', 'age': 44, 'job': 'Snake charmer', 'height_in': 60},\n",
    "    {'name': 'Sally', 'age': 55, 'job': 'Fry cook'}\n",
    "]\n",
    "\n",
    "for human in humans:\n",
    "    print(human['name'], 'is', human['height_in'], 'inches tall')"
   ]
  },
  {
   "cell_type": "markdown",
   "metadata": {},
   "source": [
    "Let's catch the `KeyError`. You could use a bare `except` statement, which would fire if _any_ exception is raised, but it's good practice to specify the class of error that you're controlling for."
   ]
  },
  {
   "cell_type": "code",
   "execution_count": null,
   "metadata": {
    "collapsed": true
   },
   "outputs": [],
   "source": [
    "humans = [\n",
    "    {'name': 'Cody', 'age': 32, 'job': 'Training director', 'height_in': 72},\n",
    "    {'name': 'Jeff', 'age': 44, 'job': 'Snake charmer', 'height_in': 60},\n",
    "    {'name': 'Sally', 'age': 55, 'job': 'Fry cook'}\n",
    "]\n",
    "\n",
    "for human in humans:\n",
    "    try:\n",
    "        print(human['name'], 'is', human['height_in'], 'inches tall')\n",
    "    except KeyError:\n",
    "        print('We don\\'t know how tall', human['name'], 'is')"
   ]
  },
  {
   "cell_type": "markdown",
   "metadata": {},
   "source": [
    "### Break and continue\n",
    "\n",
    "These statements are frequently used in loops to control the flow of your program. We'll use [`range()`](https://docs.python.org/3/library/functions.html#func-range) to demo how each statement works.\n",
    "\n",
    "- [`break`](https://docs.python.org/3/reference/simple_stmts.html#the-break-statement) breaks out of the loop\n",
    "- [`continue`](https://docs.python.org/3/reference/simple_stmts.html#the-continue-statement) skips to the next iteration"
   ]
  },
  {
   "cell_type": "code",
   "execution_count": null,
   "metadata": {
    "collapsed": true
   },
   "outputs": [],
   "source": [
    "# break\n",
    "for x in range(10):\n",
    "    if x == 7:\n",
    "        break\n",
    "    else:\n",
    "        print(x)"
   ]
  },
  {
   "cell_type": "code",
   "execution_count": null,
   "metadata": {
    "collapsed": true
   },
   "outputs": [],
   "source": [
    "# continue\n",
    "for x in range(10):\n",
    "    if x == 7:\n",
    "        continue\n",
    "    else:\n",
    "        print(x)"
   ]
  },
  {
   "cell_type": "markdown",
   "metadata": {},
   "source": [
    "### Other built-in functions\n",
    "\n",
    "Check out the [full list here](https://docs.python.org/3/library/functions.html#built-in-functions). We're just going to look at a couple."
   ]
  },
  {
   "cell_type": "markdown",
   "metadata": {},
   "source": [
    "#### [`dir()`](https://docs.python.org/3/library/functions.html#dir)\n",
    "\n",
    "Use the `dir()` function to see all of the attributes and methods available to an object -- this is often how I learn about new ways to manipulate data!\n",
    "\n",
    "Let's try it out on some different data types."
   ]
  },
  {
   "cell_type": "code",
   "execution_count": null,
   "metadata": {
    "collapsed": true
   },
   "outputs": [],
   "source": [
    "# string\n",
    "dir('hello!')"
   ]
  },
  {
   "cell_type": "code",
   "execution_count": null,
   "metadata": {
    "collapsed": true
   },
   "outputs": [],
   "source": [
    "# lists\n",
    "l = [1, 2, 3, 4, 5, 6]\n",
    "dir(l)"
   ]
  },
  {
   "cell_type": "code",
   "execution_count": null,
   "metadata": {
    "collapsed": true
   },
   "outputs": [],
   "source": [
    "# dicts\n",
    "d = {'name': 'Cody', 'age': 32, 'job': 'Training director', 'height_in': 72}\n",
    "\n",
    "dir(d)"
   ]
  },
  {
   "cell_type": "markdown",
   "metadata": {},
   "source": [
    "#### [`enumerate()`](https://docs.python.org/3/library/functions.html#enumerate)\n",
    "\n",
    "Use `enumerate()` in a loop to keep track of _where_ you're at in the loop -- the index. Notice that we then need to use two variables in the loop -- the index and the actual value."
   ]
  },
  {
   "cell_type": "code",
   "execution_count": null,
   "metadata": {
    "collapsed": true
   },
   "outputs": [],
   "source": [
    "humans = [\n",
    "    {'name': 'Cody', 'age': 32, 'job': 'Training director', 'height_in': 72},\n",
    "    {'name': 'Jeff', 'age': 44, 'job': 'Snake charmer', 'height_in': 60},\n",
    "    {'name': 'Sally', 'age': 55, 'job': 'Fry cook'}\n",
    "]\n",
    "\n",
    "for idx, human in enumerate(humans):\n",
    "    print(idx, human['name'])"
   ]
  },
  {
   "cell_type": "markdown",
   "metadata": {},
   "source": [
    "#### [`zip()`](https://docs.python.org/3/library/functions.html#zip) and [`dict()`](https://docs.python.org/3/library/functions.html#func-dict)\n",
    "\n",
    "Use zip to fold multiple iterable objects into one thing. My favorite use of zip is turning two lists of related data into a single dictionary using `dict()` to coerce the zip object:"
   ]
  },
  {
   "cell_type": "code",
   "execution_count": null,
   "metadata": {
    "collapsed": true
   },
   "outputs": [],
   "source": [
    "names = ['Cody', 'Jeff', 'Sally']\n",
    "ages = [32, 44, 55]\n",
    "\n",
    "zip_obj = zip(names, ages)\n",
    "\n",
    "human_dict = dict(zip_obj)\n",
    "\n",
    "print(human_dict)"
   ]
  },
  {
   "cell_type": "markdown",
   "metadata": {},
   "source": [
    "#### [`sum()`](https://docs.python.org/3/library/functions.html#sum), [`max()`](https://docs.python.org/3/library/functions.html#max) and [`min()`](https://docs.python.org/3/library/functions.html#min)\n",
    "\n",
    "- Sum a list of numbers\n",
    "- Find the highest value in a list\n",
    "- Find the lowest value in a list"
   ]
  },
  {
   "cell_type": "code",
   "execution_count": null,
   "metadata": {
    "collapsed": true
   },
   "outputs": [],
   "source": [
    "# a list of numbers\n",
    "l = [1100, 200, 9400, 800, 1000]\n",
    "\n",
    "# sum\n",
    "total = sum(l)\n",
    "\n",
    "# max\n",
    "max_value = max(l)\n",
    "\n",
    "# min\n",
    "min_value = min(l)\n",
    "\n",
    "# print the results\n",
    "print(total, max_value, min_value)"
   ]
  },
  {
   "cell_type": "markdown",
   "metadata": {},
   "source": [
    "### Installing third-party packages\n",
    "\n",
    "Use the `pip` package manager to install third-party packages. The `pip` tool comes bundled with Python 3. To install a module system-wide, you'd run this command from the Terminal app: `pip install name_of_your_package`.\n",
    "\n",
    "A saner approach would be to use a \"virtual environment\" and install dependencies specifically for each project. That way, you avoid the problem of \"I need version X of `pandas` for this project but version Y for this other project.\" If `pandas` is installed globally on your computer, you'll quickly run into problems.\n",
    "\n",
    "For this boot camp, we have installed these packages:\n",
    "\n",
    "- `jupyter`\n",
    "- `bs4` (Beautiful Soup)\n",
    "- `requests`\n",
    "- `pandas`\n",
    "- `matplotlib`\n",
    "\n",
    "Each of these packages, in turn, has dependencies that are automatically installed."
   ]
  }
 ],
 "metadata": {
  "kernelspec": {
   "display_name": "Python 3",
   "language": "python",
   "name": "python3"
  },
  "language_info": {
   "codemirror_mode": {
    "name": "ipython",
    "version": 3
   },
   "file_extension": ".py",
   "mimetype": "text/x-python",
   "name": "python",
   "nbconvert_exporter": "python",
   "pygments_lexer": "ipython3",
   "version": "3.6.2"
  }
 },
 "nbformat": 4,
 "nbformat_minor": 2
}
