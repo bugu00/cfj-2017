{
 "cells": [
  {
   "cell_type": "markdown",
   "metadata": {
    "collapsed": true
   },
   "source": [
    "# Let's crunch some animal outcome data\n",
    "\n",
    "For this exercise, we're going to analyze [data on animals that enter the shelter system in Austin, TX](https://data.austintexas.gov/Health-and-Community-Services/Austin-Animal-Center-Outcomes/9t4d-g238)."
   ]
  },
  {
   "cell_type": "markdown",
   "metadata": {},
   "source": [
    "#### Import libraries"
   ]
  },
  {
   "cell_type": "code",
   "execution_count": null,
   "metadata": {
    "collapsed": true
   },
   "outputs": [],
   "source": [
    "import pandas as pd"
   ]
  },
  {
   "cell_type": "markdown",
   "metadata": {},
   "source": [
    "#### Load the data into a data frame\n",
    "\n",
    "The `read_csv()` method supports loading data into a Data Frame directly from a URL link, so let's do that. It's a decent-sized file (74K rows).\n",
    "\n",
    "Pro: This will get you the latest version of the data.\n",
    "\n",
    "Con: Now your script requires an Internet connection."
   ]
  },
  {
   "cell_type": "code",
   "execution_count": null,
   "metadata": {
    "collapsed": true
   },
   "outputs": [],
   "source": [
    "df = pd.read_csv('https://data.austintexas.gov/api/views/9t4d-g238/rows.csv')"
   ]
  },
  {
   "cell_type": "code",
   "execution_count": null,
   "metadata": {
    "collapsed": true
   },
   "outputs": [],
   "source": [
    "# run head() to check the output\n",
    "\n",
    "df.head()"
   ]
  },
  {
   "cell_type": "code",
   "execution_count": null,
   "metadata": {
    "collapsed": true
   },
   "outputs": [],
   "source": [
    "# you can also use describe() to get a quick summary\n",
    "# of the data in each column\n",
    "\n",
    "df.describe()"
   ]
  },
  {
   "cell_type": "markdown",
   "metadata": {},
   "source": [
    "### Come up with a list of questions\n",
    "\n",
    "Here are a couple to get us started:\n",
    "\n",
    "- What's the breakdown of animal type? (Cats, dogs, etc.)\n",
    "- What's the total intake volume by year?\n",
    "- What are the most common names for cats? For dogs? Broken down by year?\n",
    "- What percentage of dogs are euthanized every year? Adopted? Etc.\n",
    "- In 2016, what breeds of dogs were most likely to be euthanized? (Couple of ways to approach this question.)\n",
    "\n",
    "What other questions do we have? Let's answer some of them together.\n",
    "\n",
    "**Extra credit 1**: Send the results of your analysis to Slack.\n",
    "\n",
    "**Extra credit 2**: Make a chart of your analysis."
   ]
  },
  {
   "cell_type": "code",
   "execution_count": null,
   "metadata": {
    "collapsed": true
   },
   "outputs": [],
   "source": []
  }
 ],
 "metadata": {
  "kernelspec": {
   "display_name": "Python 3",
   "language": "python",
   "name": "python3"
  },
  "language_info": {
   "codemirror_mode": {
    "name": "ipython",
    "version": 3
   },
   "file_extension": ".py",
   "mimetype": "text/x-python",
   "name": "python",
   "nbconvert_exporter": "python",
   "pygments_lexer": "ipython3",
   "version": "3.6.2"
  }
 },
 "nbformat": 4,
 "nbformat_minor": 2
}
