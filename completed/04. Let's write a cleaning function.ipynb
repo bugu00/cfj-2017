{
 "cells": [
  {
   "cell_type": "markdown",
   "metadata": {},
   "source": [
    "# Let's write a cleaning function\n",
    "\n",
    "You can use Python string functions to do some basic data cleaning. (For data sets with more complex cleaning needs, you might want to use a power tool like [Open Refine](http://openrefine.org/).)\n",
    "\n",
    "Here, we're going to write a function that takes in one row of data as input, cleans up the pieces of data in the row, then _returns_ a cleaned version of that row. As we loop over the data in the file, we'll call this function on each row, then write out the clean row to a new file.\n",
    "\n",
    "Let's break down our tasks:\n",
    "\n",
    "- Write a cleaning function that accepts a row of raw data and returns a row of clean data\n",
    "- Open our CSV file of raw data\n",
    "- Open a CSV file to write the cleaned data into\n",
    "- Loop over the rows of raw data, passing each row to our cleaning function\n",
    "- Write out the clean data to the new file"
   ]
  },
  {
   "cell_type": "markdown",
   "metadata": {},
   "source": [
    "### The data\n",
    "\n",
    "We're going to be working with the FDIC's [list of failed banks](https://catalog.data.gov/dataset/fdic-failed-bank-list)."
   ]
  },
  {
   "cell_type": "markdown",
   "metadata": {},
   "source": [
    "### Write the cleaning function\n",
    "\n",
    "First, we need to write our cleaning function -- let's call our function `clean_row()`. We need to decide whether the row it parses will be a dictionary (using `csv.DictReader`) or a list (using `csv.reader`).\n",
    "\n",
    "Let's use a dictionary.\n",
    "\n",
    "Here are the fields that we are going to include in our output file. The ones that need cleaning are in bold.\n",
    "\n",
    "- **Bank Name**: Sometimes has extra whitespace, needs to be uppercase, our house style dictates that ampersands should be replaced by the word \"and\"\n",
    "- **City**: Needs to be uppercase\n",
    "- ST\n",
    "- **Acquiring Institution**: Sometimes has extra whitespace, needs to be uppercase, our house style dictates that ampersands should be replaced by the word \"and\"\n",
    "- Closing Date"
   ]
  },
  {
   "cell_type": "code",
   "execution_count": null,
   "metadata": {
    "collapsed": true
   },
   "outputs": [],
   "source": [
    "# first line defines the function and the argument\n",
    "# (\"row\" is an arbitrary variable name)\n",
    "def clean_row(row):\n",
    "    \n",
    "    \"\"\"\n",
    "    For the bank and institution name:\n",
    "        - strip whitespace\n",
    "        - uppercase the name\n",
    "        - replace '&' with 'AND'\n",
    "        \n",
    "    n.b.: you can chain string methods together\n",
    "    \"\"\"\n",
    "    clean_bank = row['Bank Name'].strip().upper().replace('&', 'AND')\n",
    "    clean_inst = row['Acquiring Institution'].strip().upper().replace('&', 'AND')\n",
    "\n",
    "    # strip whitespace and upcase the city\n",
    "    clean_city = row['City'].strip().upper()\n",
    "    \n",
    "    # return a dictionary of clean data\n",
    "    # the keys ~must~ match the headers of our output file\n",
    "    return {\n",
    "        'bank': clean_bank,\n",
    "        'inst': clean_inst,\n",
    "        'city': clean_city,\n",
    "        'st': row['ST'],\n",
    "        'c_date': row['Closing Date']\n",
    "    }"
   ]
  },
  {
   "cell_type": "markdown",
   "metadata": {},
   "source": [
    "### Use the cleaning function\n",
    "\n",
    "Now, in a `with` block, we'll do the following:\n",
    "\n",
    "- Read in `data/failed_banks.csv`\n",
    "- Open `banks-clean.csv` to write to\n",
    "- Loop over the rows of raw data\n",
    "- Call the cleaning function on each row\n",
    "- Write the returned (clean) data to `banks-clean.csv`"
   ]
  },
  {
   "cell_type": "code",
   "execution_count": null,
   "metadata": {
    "collapsed": true
   },
   "outputs": [],
   "source": [
    "# import the csv library\n",
    "import csv\n",
    "\n",
    "# open the two files\n",
    "with open('data/failed-banks.csv', 'r') as infile, open('banks-clean.csv', 'w') as outfile:\n",
    "    \n",
    "    # create a DictReader object\n",
    "    reader = csv.DictReader(infile)\n",
    "    \n",
    "    # create a DictWriter object\n",
    "    # the fieldnames must exactly match the keys in the dictionary being returned\n",
    "    # by our cleaning function\n",
    "    writer = csv.DictWriter(outfile, fieldnames=['bank', 'inst', 'city', 'st', 'c_date'])\n",
    "    \n",
    "    # write out header row\n",
    "    writer.writeheader()\n",
    "    \n",
    "    # loop over the rows of raw data\n",
    "    # \"row\" is an arbitrary variable name\n",
    "    for row in reader:\n",
    "        \n",
    "        # call the cleaning function on the row\n",
    "        cleaned = clean_row(row)\n",
    "        \n",
    "        # write out the clean row\n",
    "        writer.writerow(cleaned)"
   ]
  },
  {
   "cell_type": "markdown",
   "metadata": {},
   "source": [
    "### _Extra credit_\n",
    "\n",
    "The `Closing Date` field in the bank failure data is in this format: `6-Sep-2011`. In other words, day, then abbreviated month as text, then year.\n",
    "\n",
    "Python's built-in `datetime` module has [two methods](https://docs.python.org/3/library/datetime.html#strftime-and-strptime-behavior) that can help us reformat them: `strftime()` and `strptime()`.\n",
    "\n",
    "**Your task**: Add some code to the cleaning function to reformat the closing date in `yyyy-mm-dd` format. This will require doing some research into a module that we haven't discussed yet. (Good practice for when you're coding on your own.)\n",
    "\n",
    "Breaking it down into smaller tasks:\n",
    "\n",
    "- You'll need to import `datetime` from the `datetime` module: `from datetime import datetime`\n",
    "- Then figure out how to use `strptime()` to turn a `6-Sep-2011`-type string into a Python date object\n",
    "- Then figure out how to format that date object as `yyyy-mm-dd` using `strftime()`\n",
    "- Then add that functionality to the cleaning function and re-run the bank data\n",
    "\n",
    "Google is your friend here. Try searching for things like \"python strptime example.\" (Freebie: Here's a [handy guide](http://strftime.org/) to the date directives.) Noodle around in a cell. Get something working for one date -- a test string -- before setting your solution loose on the whole file. Try new things, see what happens, fail, find solutions. It's all part of the learning process."
   ]
  },
  {
   "cell_type": "code",
   "execution_count": null,
   "metadata": {
    "collapsed": true
   },
   "outputs": [],
   "source": [
    "import csv\n",
    "from datetime import datetime\n",
    "\n",
    "def clean_row(row):\n",
    "\n",
    "    clean_bank = row['Bank Name'].strip().upper().replace('&', 'AND')\n",
    "    clean_inst = row['Acquiring Institution'].strip().upper().replace('&', 'AND')\n",
    "    clean_city = row['City'].strip().upper()\n",
    "    \n",
    "    # reformat the date\n",
    "    clean_date = datetime.strptime(row['Closing Date'], '%d-%b-%y').strftime('%Y-%m-%d')\n",
    "\n",
    "    return {\n",
    "        'bank': clean_bank,\n",
    "        'inst': clean_inst,\n",
    "        'city': clean_city,\n",
    "        'st': row['ST'],\n",
    "        'c_date': clean_date\n",
    "    }\n",
    "\n",
    "with open('data/failed_banks.csv', 'r') as infile, open('banks-clean.csv', 'w') as outfile:\n",
    "    \n",
    "    reader = csv.DictReader(infile)\n",
    "    writer = csv.DictWriter(outfile, fieldnames=['bank', 'inst', 'city', 'st', 'c_date'])\n",
    "    \n",
    "    writer.writeheader()\n",
    "    \n",
    "    for row in reader:\n",
    "        cleaned = clean_row(row)\n",
    "        writer.writerow(cleaned)"
   ]
  },
  {
   "cell_type": "code",
   "execution_count": null,
   "metadata": {
    "collapsed": true
   },
   "outputs": [],
   "source": []
  }
 ],
 "metadata": {
  "kernelspec": {
   "display_name": "Python 3",
   "language": "python",
   "name": "python3"
  },
  "language_info": {
   "codemirror_mode": {
    "name": "ipython",
    "version": 3
   },
   "file_extension": ".py",
   "mimetype": "text/x-python",
   "name": "python",
   "nbconvert_exporter": "python",
   "pygments_lexer": "ipython3",
   "version": "3.6.2"
  }
 },
 "nbformat": 4,
 "nbformat_minor": 2
}
