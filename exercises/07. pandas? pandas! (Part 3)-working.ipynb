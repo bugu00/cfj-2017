{
 "cells": [
  {
   "cell_type": "markdown",
   "metadata": {},
   "source": [
    "# Simple charts in `pandas`\n",
    "\n",
    "In this session, we're gonna revisit our MLB data to rock a quick chart in `pandas`. Our goal: A horizontal bar chart of the top 10 teams by payroll."
   ]
  },
  {
   "cell_type": "markdown",
   "metadata": {
    "collapsed": true
   },
   "source": [
    "### Import `pandas` and a some chart formatting help"
   ]
  },
  {
   "cell_type": "code",
   "execution_count": null,
   "metadata": {
    "collapsed": true
   },
   "outputs": [],
   "source": [
    "\n",
    "\n",
    "# import a ticker formatting class from matplotlib\n"
   ]
  },
  {
   "cell_type": "markdown",
   "metadata": {
    "collapsed": true
   },
   "source": [
    "### Let Jupyter know that you're gonna be charting inline\n",
    "\n",
    "(Don't worry if you get a warning about building a font library.)"
   ]
  },
  {
   "cell_type": "code",
   "execution_count": null,
   "metadata": {
    "collapsed": true
   },
   "outputs": [],
   "source": []
  },
  {
   "cell_type": "markdown",
   "metadata": {},
   "source": [
    "### Read in MLB data"
   ]
  },
  {
   "cell_type": "code",
   "execution_count": null,
   "metadata": {
    "collapsed": true
   },
   "outputs": [],
   "source": [
    "# create a data frame\n",
    "\n",
    "\n",
    "# use head to check it out\n"
   ]
  },
  {
   "cell_type": "markdown",
   "metadata": {},
   "source": [
    "### Prep data for charting\n",
    "\n",
    "Let's chart total team payroll, most to least. Let's repeat the grouping we did before."
   ]
  },
  {
   "cell_type": "code",
   "execution_count": null,
   "metadata": {
    "collapsed": true
   },
   "outputs": [],
   "source": [
    "# group by team, aggregate on sum\n",
    "\n",
    "\n",
    "# get top 10\n"
   ]
  },
  {
   "cell_type": "markdown",
   "metadata": {},
   "source": [
    "### Make a horizonal bar chart"
   ]
  },
  {
   "cell_type": "code",
   "execution_count": null,
   "metadata": {
    "collapsed": true
   },
   "outputs": [],
   "source": [
    "# make a horizontal bar chart\n",
    "# set the figure size\n",
    "\n",
    "\n",
    "# sort the bars top to bottom\n",
    "\n",
    "\n",
    "# set the title\n",
    "\n",
    "\n",
    "# kill the legend\n",
    "\n",
    "\n",
    "# kill y axis label\n",
    "\n",
    "\n",
    "# define a function to format x axis ticks\n",
    "# otherwise they'd all run together (100000000)\n",
    "# via https://stackoverflow.com/a/46454637\n",
    "\n",
    "\n",
    "# format the x axis ticks using the function we just defined\n"
   ]
  },
  {
   "cell_type": "markdown",
   "metadata": {
    "collapsed": true
   },
   "source": [
    "### Exercise: Gussy up that chart\n",
    "\n",
    "Using your Google-fu and perusing the [matplotlib](https://matplotlib.org/) documentation, play around with different chart options. Maybe make the bars a different color. Change the font. Change the [default stylesheet](https://matplotlib.org/users/style_sheets.html). Go nuts!"
   ]
  }
 ],
 "metadata": {
  "kernelspec": {
   "display_name": "Python 3",
   "language": "python",
   "name": "python3"
  },
  "language_info": {
   "codemirror_mode": {
    "name": "ipython",
    "version": 3
   },
   "file_extension": ".py",
   "mimetype": "text/x-python",
   "name": "python",
   "nbconvert_exporter": "python",
   "pygments_lexer": "ipython3",
   "version": "3.6.2"
  }
 },
 "nbformat": 4,
 "nbformat_minor": 2
}
