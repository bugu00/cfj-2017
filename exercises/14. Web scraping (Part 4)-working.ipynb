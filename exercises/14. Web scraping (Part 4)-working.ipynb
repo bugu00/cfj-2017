{
 "cells": [
  {
   "cell_type": "markdown",
   "metadata": {},
   "source": [
    "# Let's scrape some nuclear reactors\n",
    "\n",
    "Our goal: Scrape [a table of U.S. nuclear reactors](https://www.nrc.gov/reactors/operating/list-power-reactor-units.html) into a CSV."
   ]
  },
  {
   "cell_type": "markdown",
   "metadata": {},
   "source": [
    "### Import the libraries"
   ]
  },
  {
   "cell_type": "code",
   "execution_count": 1,
   "metadata": {
    "collapsed": true
   },
   "outputs": [],
   "source": []
  },
  {
   "cell_type": "markdown",
   "metadata": {},
   "source": [
    "### Fetch and parse the HTML"
   ]
  },
  {
   "cell_type": "code",
   "execution_count": 5,
   "metadata": {
    "collapsed": true
   },
   "outputs": [],
   "source": [
    "# define the url\n",
    "\n",
    "\n",
    "# get the page\n",
    "\n",
    "\n",
    "# specify the encoding\n",
    "\n",
    "\n",
    "# turn it into soup\n"
   ]
  },
  {
   "cell_type": "markdown",
   "metadata": {},
   "source": [
    "### Find the table"
   ]
  },
  {
   "cell_type": "code",
   "execution_count": 8,
   "metadata": {
    "collapsed": true
   },
   "outputs": [],
   "source": []
  },
  {
   "cell_type": "markdown",
   "metadata": {},
   "source": [
    "### Loop over the rows and write to CSV"
   ]
  },
  {
   "cell_type": "code",
   "execution_count": 27,
   "metadata": {
    "collapsed": true
   },
   "outputs": [],
   "source": [
    "\n",
    "    \n",
    "\n",
    "\n",
    "\n",
    "\n",
    "\n",
    "        # each <tr> has some <td> cells inside it; we'll move these into variables,\n",
    "        # do some string manipulations and write to the CSV\n",
    "\n",
    "\n",
    "        # reactor name, detail page link and docket number are all part of the first cell\n",
    "        # the .contents() method returns a list of a tag's children -->\n",
    "        # https://www.crummy.com/software/BeautifulSoup/bs4/doc/#contents-and-children\n",
    "\n",
    "\n",
    "\n",
    "        \n",
    "        # license number is in the second cell\n",
    "\n",
    "        \n",
    "        # reactor type is in the third cell\n",
    "\n",
    "\n",
    "        # location is in the fourth cell\n",
    "\n",
    "        \n",
    "        # some of the locations have multiple internal spaces -- here's a trick for dealing with that\n",
    "        # https://stackoverflow.com/a/1546251\n",
    "\n",
    "        \n",
    "        # owner is in the fifth cell\n",
    "\n",
    "        \n",
    "        # region is in the sixth cell\n",
    "\n",
    "\n"
   ]
  }
 ],
 "metadata": {
  "kernelspec": {
   "display_name": "Python 3",
   "language": "python",
   "name": "python3"
  },
  "language_info": {
   "codemirror_mode": {
    "name": "ipython",
    "version": 3
   },
   "file_extension": ".py",
   "mimetype": "text/x-python",
   "name": "python",
   "nbconvert_exporter": "python",
   "pygments_lexer": "ipython3",
   "version": "3.6.2"
  }
 },
 "nbformat": 4,
 "nbformat_minor": 2
}
