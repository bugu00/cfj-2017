{
 "cells": [
  {
   "cell_type": "markdown",
   "metadata": {},
   "source": [
    "# Functions\n",
    "If you find yourself doing the same thing over and over again in your code, it might be time to write a function. A function is a bit of reusable code that you can use throughout your script. In Excel, for instance, `=SUM()` is a function.\n",
    "\n",
    "Python has a number of built-in functions -- `print()` is one of them -- but you can also write your own. This can help keep your code tidy.\n",
    "\n",
    "Typically, a function takes _arguments_ as inputs, does something with the inputs, then _returns_ a value.\n",
    "\n",
    "For instance, you could write a function that takes a number and returns that number minus 10:"
   ]
  },
  {
   "cell_type": "code",
   "execution_count": null,
   "metadata": {
    "collapsed": true
   },
   "outputs": [],
   "source": []
  },
  {
   "cell_type": "markdown",
   "metadata": {},
   "source": [
    "Notice a couple things here:\n",
    "\n",
    "- Functions start with the keyword `def`\n",
    "- Functions have a name (ours is called \"minusTen\")\n",
    "- If you need to pass one or more arguments to the function, you define them inside parentheses (\"num\" is just a variable name I made up -- it could be anything)\n",
    "- The special Python word \"return,\" which tells the function to return the value to the script\n",
    "\n",
    "Simply _defining_ a function does nothing -- you have to _call_ the function to use it. Let's save the output of the function to a variable:"
   ]
  },
  {
   "cell_type": "code",
   "execution_count": null,
   "metadata": {
    "collapsed": true
   },
   "outputs": [],
   "source": []
  },
  {
   "cell_type": "markdown",
   "metadata": {},
   "source": [
    "In this case we're passing the number 100 to the function. The function's job is to subtract 10 from whatever number you give it and return the result. The result is stored in the `my_number` variable.\n",
    "\n",
    "What happens if you hand the function something that's not a number? You'd get an error -- an \"exception,\" as they're called in Python."
   ]
  },
  {
   "cell_type": "code",
   "execution_count": null,
   "metadata": {
    "collapsed": true
   },
   "outputs": [],
   "source": []
  },
  {
   "cell_type": "markdown",
   "metadata": {},
   "source": [
    "What happens if you call the function without providing an argument?"
   ]
  },
  {
   "cell_type": "code",
   "execution_count": null,
   "metadata": {
    "collapsed": true
   },
   "outputs": [],
   "source": []
  },
  {
   "cell_type": "markdown",
   "metadata": {},
   "source": [
    "If this were a real function, we'd want to build in some error handling to make sure that the function has in fact received and argument and that it's a number.\n",
    "\n",
    "You could also set your function up to have a default value for the variable:"
   ]
  },
  {
   "cell_type": "code",
   "execution_count": null,
   "metadata": {
    "collapsed": true
   },
   "outputs": [],
   "source": []
  },
  {
   "cell_type": "markdown",
   "metadata": {},
   "source": [
    "Now, if you call the function without specifying an argument, it will return 90."
   ]
  },
  {
   "cell_type": "code",
   "execution_count": null,
   "metadata": {
    "collapsed": true
   },
   "outputs": [],
   "source": []
  }
 ],
 "metadata": {
  "kernelspec": {
   "display_name": "Python 3",
   "language": "python",
   "name": "python3"
  },
  "language_info": {
   "codemirror_mode": {
    "name": "ipython",
    "version": 3
   },
   "file_extension": ".py",
   "mimetype": "text/x-python",
   "name": "python",
   "nbconvert_exporter": "python",
   "pygments_lexer": "ipython3",
   "version": "3.6.2"
  }
 },
 "nbformat": 4,
 "nbformat_minor": 2
}
