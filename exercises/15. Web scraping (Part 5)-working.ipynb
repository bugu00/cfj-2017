{
 "cells": [
  {
   "cell_type": "markdown",
   "metadata": {},
   "source": [
    "# Let's scrape some inmate data\n",
    "\n",
    "Our goal in this exercise is to scrape the [roster of inmates in the Hennepin County Jail](https://www4.co.hennepin.mn.us/webbooking/search.asp) into a CSV."
   ]
  },
  {
   "cell_type": "markdown",
   "metadata": {},
   "source": [
    "### Step 1: Can we get everyone?\n",
    "\n",
    "What happens when we click the search box without entering a first or last name? We're directed to a page with the listing of the entire roster at a new URL.\n",
    "\n",
    "This is good news -- some forms are set up to require a minimum number of characters. Now we need to check whether you can just _go_ to that URL without visiting the landing page first and clicking through -- in other words, does that page depend on a [cookie](https://en.wikipedia.org/wiki/HTTP_cookie) being passed?\n",
    "\n",
    "To test this, I usually open another browser window in incognito mode and paste in the URL. Success! Going to [https://www4.co.hennepin.mn.us/webbooking/resultbyname.asp](https://www4.co.hennepin.mn.us/webbooking/resultbyname.asp) dumps out the entire list of inmates, so that's where we'll start. (You could also open your network tab and see what information is getting exchanged during the request. For more complex dynamically created pages that rely on cookies, we'd probably need the `requests` [Session object](http://docs.python-requests.org/en/master/user/advanced/#session-objects).)"
   ]
  },
  {
   "cell_type": "markdown",
   "metadata": {},
   "source": [
    "### Step 2: Check out the inmate detail page\n",
    "\n",
    "Let's click on an inmate link. We want to look at two things:\n",
    "\n",
    "- Does each inmate have a unique URL with a consistent pattern? (Yes)\n",
    "- What information on the page do we want to collect? (Let's grab custody info, housing location, booking date/time and arresting agency)\n",
    "\n",
    "What's the pattern for an inmate URL?"
   ]
  },
  {
   "cell_type": "markdown",
   "metadata": {},
   "source": [
    "### Step 3: Start scraping\n",
    "\n",
    "#### Import the libraries we'll need"
   ]
  },
  {
   "cell_type": "code",
   "execution_count": null,
   "metadata": {
    "collapsed": true
   },
   "outputs": [],
   "source": []
  },
  {
   "cell_type": "markdown",
   "metadata": {},
   "source": [
    "#### Set introductory variables"
   ]
  },
  {
   "cell_type": "code",
   "execution_count": null,
   "metadata": {
    "collapsed": true
   },
   "outputs": [],
   "source": [
    "# base URL\n",
    "\n",
    "\n",
    "# results page URL\n",
    "\n",
    "\n",
    "# pattern for inmate detail URLs\n"
   ]
  },
  {
   "cell_type": "markdown",
   "metadata": {},
   "source": [
    "#### Fetch and parse the page contents"
   ]
  },
  {
   "cell_type": "code",
   "execution_count": null,
   "metadata": {
    "collapsed": true
   },
   "outputs": [],
   "source": [
    "# fetch the page\n",
    "\n",
    "\n",
    "# parse it\n",
    "\n",
    "\n",
    "# find the table we want\n",
    "\n",
    "\n",
    "# get the rows of the table, minus the header\n"
   ]
  },
  {
   "cell_type": "markdown",
   "metadata": {},
   "source": [
    "#### Write a couple of functions\n",
    "\n",
    "We need to pause here and write a couple of functions to help us extract the bits of data from the inmate's detail page:\n",
    "\n",
    "- A function that takes the URL for an inmate detail page, fetches and parses the contents, then returns the bits of data we're interested in\n",
    "- A more specific function that takes the text of a label cell on a detail page (\"Sheriff's Custody:\", for instance) and returns the associated value in the next cell. This function will be called inside our other function -- it's not 100% necessary but it keeps us from repeating ourselves a million times"
   ]
  },
  {
   "cell_type": "code",
   "execution_count": null,
   "metadata": {
    "collapsed": true
   },
   "outputs": [],
   "source": [
    "\n",
    "    \"\"\"Given a label and a soup'd detail page, return the associated value.\"\"\"\n",
    "\n",
    "\n",
    "\n",
    "\n",
    "    \"\"\"Fetch and parse and inmate detail page, return three bits of data.\"\"\"\n",
    "    \n",
    "    # fetch the page\n",
    "\n",
    "    \n",
    "    # parse it into soup\n",
    "\n",
    "    \n",
    "    # call the get_inmate_attr function to nab the cells we're interested in\n",
    "\n",
    "\n",
    "\n",
    "\n",
    "    # return a dict with this info\n",
    "    # lose the \" Address\" string on the housing cell, where it exists\n",
    "    # also, parse the booking date as a date to validate\n"
   ]
  },
  {
   "cell_type": "markdown",
   "metadata": {},
   "source": [
    "#### Loop over the inmate rows, write to file"
   ]
  },
  {
   "cell_type": "code",
   "execution_count": null,
   "metadata": {
    "collapsed": true
   },
   "outputs": [],
   "source": [
    "# open a file to write to\n",
    "\n",
    "\n",
    "    # define your headers -- they should match the keys in the dict\n",
    "    # we're creating as we scrape\n",
    "\n",
    "\n",
    "    # create a writer object\n",
    "\n",
    "\n",
    "    # write the header row\n",
    "\n",
    "\n",
    "    # print some summary info\n",
    "\n",
    "\n",
    "\n",
    "\n",
    "    # loop over the rows of inmates from the search results page\n",
    "\n",
    "        \n",
    "        # unpack the list of cells in the row\n",
    "\n",
    "        \n",
    "        # get the detail page link using the template string we defined up top\n",
    "\n",
    "        \n",
    "        # unpack the name into last/rest and print it\n",
    "\n",
    "\n",
    "\n",
    "        # reformat the dob, which, bonus, also validates it\n",
    "\n",
    "\n",
    "        # our dict of summary info\n",
    "\n",
    "\n",
    "\n",
    "        # call the inmate_details function on the detail URL\n",
    "        # remember: this returns a dictionary\n",
    "\n",
    "\n",
    "        # combine the summary and detail dicts\n",
    "        # by unpacking them into a new dict\n",
    "        # https://www.python.org/dev/peps/pep-0448/\n",
    "\n",
    "\n",
    "        # write the combined dict out to file\n",
    "\n",
    "\n",
    "        # pause for 2 seconds to give the server a break\n"
   ]
  },
  {
   "cell_type": "markdown",
   "metadata": {},
   "source": [
    "### _Extra credit_: Get charge details\n",
    "\n",
    "It's all well and good to get the basic inmate info, but we're probably also interested in _why_ they're in jail -- what are they charged with?\n",
    "\n",
    "For this exercise, add some parsing logic to the `inmate_details` scraping function to extract data about what each inmate has been charged with. Pulling them out as a list of dictionaries makes the most sense to me, but you can format it however you like.\n",
    "\n",
    "Because each inmate has a variable number of charges, you also need to think about how you want to represent the data in your CSV. Is each line one charge? One inmate? Picture how one row of data should look in your output file and structure your parsing to match."
   ]
  },
  {
   "cell_type": "code",
   "execution_count": null,
   "metadata": {
    "collapsed": true
   },
   "outputs": [],
   "source": []
  }
 ],
 "metadata": {
  "kernelspec": {
   "display_name": "Python 3",
   "language": "python",
   "name": "python3"
  },
  "language_info": {
   "codemirror_mode": {
    "name": "ipython",
    "version": 3
   },
   "file_extension": ".py",
   "mimetype": "text/x-python",
   "name": "python",
   "nbconvert_exporter": "python",
   "pygments_lexer": "ipython3",
   "version": "3.6.2"
  }
 },
 "nbformat": 4,
 "nbformat_minor": 2
}
