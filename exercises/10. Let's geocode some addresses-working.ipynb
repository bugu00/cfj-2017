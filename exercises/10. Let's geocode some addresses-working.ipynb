{
 "cells": [
  {
   "cell_type": "markdown",
   "metadata": {},
   "source": [
    "# Geocoding\n",
    "\n",
    "Geocoding is the process of turning an address -- `'3020 W Colorado Ave, Colorado Springs, CO 80904'` -- into a latitude/longitude coordinate pair. You'd need to do this if you wanted to do some geospatial analysis or make an interactive map or something.\n",
    "\n",
    "We're going to use the [`geopy`](https://geopy.readthedocs.io/en/1.10.0/) library to geocode a CSV of payday lenders in Illinois. The data file is at `data/payday.csv`.\n",
    "\n",
    "Once we have the coordinates, we're going to tack on those columns and write out to a new file, `payday-geocoded.csv`."
   ]
  },
  {
   "cell_type": "code",
   "execution_count": null,
   "metadata": {
    "collapsed": true
   },
   "outputs": [],
   "source": [
    "# import the Google geocoder from geopy\n",
    "# import Python's csv and time libaries\n",
    "\n",
    "\n",
    "# Make a geolocator object\n",
    "# Set the `timeout` keyword argument to 5 (seconds)\n",
    "\n",
    "\n",
    "# in a `with` block, open the file to read from and the file to write to\n",
    "\n",
    "    \n",
    "    # make a DictReader object\n",
    "\n",
    "    \n",
    "    # define the headers\n",
    "\n",
    "    \n",
    "    # make a DictWriter object\n",
    "\n",
    "    \n",
    "    # write headers\n",
    "\n",
    "    \n",
    "    # loop over address data\n",
    "    # i'm adding an `enumerate()` function to keep track of where we're at\n",
    "    # so we can kill the loop after 5 iterations --\n",
    "    # that way we don't bombard google and get cut off\n",
    "\n",
    "        \n",
    "\n",
    "\n",
    "            # Put the address in a Google-recognizable string: ADDRESS, CITY, STATE ZIP\n",
    "\n",
    "            \n",
    "            \n",
    "            \n",
    "\n",
    "            # Geocode that string\n",
    "            \n",
    "\n",
    "            # print the address and results\n",
    "            \n",
    "            \n",
    "            # write out a new dict\n",
    "            \n",
    "\n",
    "            # Before we do all of this with the next row, pause for two seconds.\n",
    "            \n",
    "            \n",
    "\n",
    "            # once we hit 5, break out of the loop\n",
    "\n",
    "\n",
    "# let us know when we're done\n"
   ]
  },
  {
   "cell_type": "code",
   "execution_count": null,
   "metadata": {
    "collapsed": true
   },
   "outputs": [],
   "source": []
  }
 ],
 "metadata": {
  "kernelspec": {
   "display_name": "Python 3",
   "language": "python",
   "name": "python3"
  },
  "language_info": {
   "codemirror_mode": {
    "name": "ipython",
    "version": 3
   },
   "file_extension": ".py",
   "mimetype": "text/x-python",
   "name": "python",
   "nbconvert_exporter": "python",
   "pygments_lexer": "ipython3",
   "version": "3.6.2"
  }
 },
 "nbformat": 4,
 "nbformat_minor": 2
}
