{
 "cells": [
  {
   "cell_type": "markdown",
   "metadata": {},
   "source": [
    "# Automate your analysis with `pandas`\n",
    "\n",
    "Automating your data analysis is one of the most powerful things you can do with Python in a newsroom. We're going to use a library called [`pandas`](http://pandas.pydata.org/) that will leave a replicable, transparent script for others to follow.\n",
    "\n",
    "## Warmup: MLB salary data\n",
    "\n",
    "Remember `data/mlb.csv`? Let's use that to practice."
   ]
  },
  {
   "cell_type": "markdown",
   "metadata": {},
   "source": [
    "### Make a list of questions\n",
    "\n",
    "- What's the total MLB payroll?\n",
    "- What's the total payroll by team?\n",
    "- What's the typical (mean) salary for a designated hitter?\n",
    "\n",
    "(What else?)"
   ]
  },
  {
   "cell_type": "markdown",
   "metadata": {},
   "source": [
    "### Import pandas"
   ]
  },
  {
   "cell_type": "code",
   "execution_count": null,
   "metadata": {
    "collapsed": true
   },
   "outputs": [],
   "source": []
  },
  {
   "cell_type": "markdown",
   "metadata": {},
   "source": [
    "### Read in the data into a data frame\n",
    "\n",
    "We'll use the [`read_csv()`](https://pandas.pydata.org/pandas-docs/stable/generated/pandas.read_csv.html) method to read the CSV file in as a [`DataFrame`](https://pandas.pydata.org/pandas-docs/stable/generated/pandas.DataFrame.html)."
   ]
  },
  {
   "cell_type": "code",
   "execution_count": null,
   "metadata": {
    "collapsed": true
   },
   "outputs": [],
   "source": []
  },
  {
   "cell_type": "markdown",
   "metadata": {},
   "source": [
    "### _How many players?_\n",
    "\n",
    "Use the `.count()` method to find out how many pieces of data are in each column."
   ]
  },
  {
   "cell_type": "code",
   "execution_count": null,
   "metadata": {
    "collapsed": true
   },
   "outputs": [],
   "source": []
  },
  {
   "cell_type": "markdown",
   "metadata": {},
   "source": [
    "### _Total MLB payroll_\n",
    "\n",
    "To select a column from your data frame, you can use either dot or bracket notation. The result will be a [`Series`](https://pandas.pydata.org/pandas-docs/stable/generated/pandas.Series.html).\n",
    "\n",
    "Then, you can use the [`sum()`](https://pandas.pydata.org/pandas-docs/stable/generated/pandas.Series.sum.html) method to sum numeric data."
   ]
  },
  {
   "cell_type": "code",
   "execution_count": null,
   "metadata": {
    "collapsed": true
   },
   "outputs": [],
   "source": []
  },
  {
   "cell_type": "markdown",
   "metadata": {},
   "source": [
    "### _Get a list of teams_\n",
    "\n",
    "Sometimes you want to get a list of unique values in a column. You can use the [`unique()`](https://pandas.pydata.org/pandas-docs/stable/generated/pandas.Series.unique.html) method for this."
   ]
  },
  {
   "cell_type": "code",
   "execution_count": null,
   "metadata": {
    "collapsed": true
   },
   "outputs": [],
   "source": []
  },
  {
   "cell_type": "markdown",
   "metadata": {},
   "source": [
    "### _Total payroll by team_\n",
    "\n",
    "We want to group our data by team and sum the salaries -- analagous to a pivot table in Excel or a `GROUP BY` statement in SQL. Our steps:\n",
    "\n",
    "- Select the two columns we care about -- to select multiple columns, pass a list of columns to the data frame inside square brackets\n",
    "- Use the [`groupby()`](https://pandas.pydata.org/pandas-docs/stable/generated/pandas.DataFrame.groupby.html) function to group the data by team\n",
    "- Use the [`sum()`](https://pandas.pydata.org/pandas-docs/stable/generated/pandas.core.groupby.GroupBy.sum.html) method to sum up the grouped data\n",
    "- Use the [`reset_index()`](https://pandas.pydata.org/pandas-docs/stable/generated/pandas.DataFrame.reset_index.html) method to turn the Series back into a DataFrame\n",
    "- Index the results on the `TEAM` column (optional)\n",
    "- Use the [`sort_values()`](https://pandas.pydata.org/pandas-docs/stable/generated/pandas.DataFrame.sort_values.html) method to order the data by the `SALARY` column"
   ]
  },
  {
   "cell_type": "code",
   "execution_count": null,
   "metadata": {
    "collapsed": true
   },
   "outputs": [],
   "source": []
  },
  {
   "cell_type": "markdown",
   "metadata": {},
   "source": [
    "### _Typical salary for DH_\n",
    "\n",
    "Let's find the median salary for designated hitters. To filter a data frame, you use square brackets to pass a filtering condition to the data frame: `df[YOUR CONDITION HERE]`.\n",
    "\n",
    "It's like a WHERE clause in SQL. In this case, we can use one of Python's [comparison operators](https://docs.python.org/3/reference/expressions.html#comparisons) to define our conditions. If the value in the `POS` column is `DH`, include it in the results.\n",
    "\n",
    "Then we're going to select the values in the `SALARY` column and calculate the typical salary with the [`mean()`](https://pandas.pydata.org/pandas-docs/stable/generated/pandas.Series.mean.html) function."
   ]
  },
  {
   "cell_type": "code",
   "execution_count": null,
   "metadata": {
    "collapsed": true
   },
   "outputs": [],
   "source": []
  },
  {
   "cell_type": "markdown",
   "metadata": {},
   "source": [
    "### _Exercise_\n",
    "\n",
    "Come up with more questions to ask the MLB data and use what you've learned to answer them. If you can't figure out how to answer them, try to formulate a search query that could lead you to a possible solution.\n",
    "\n",
    "Some suggestions to get you started:\n",
    "\n",
    "- Which team has the largest pitching staff?\n",
    "- What is the lowest-paid position in MLB? (How do you define \"lowest-paid\"?)\n",
    "- How many catchers are paid more than $1 million? "
   ]
  },
  {
   "cell_type": "code",
   "execution_count": null,
   "metadata": {
    "collapsed": true
   },
   "outputs": [],
   "source": []
  }
 ],
 "metadata": {
  "kernelspec": {
   "display_name": "Python 3",
   "language": "python",
   "name": "python3"
  },
  "language_info": {
   "codemirror_mode": {
    "name": "ipython",
    "version": 3
   },
   "file_extension": ".py",
   "mimetype": "text/x-python",
   "name": "python",
   "nbconvert_exporter": "python",
   "pygments_lexer": "ipython3",
   "version": "3.6.2"
  }
 },
 "nbformat": 4,
 "nbformat_minor": 2
}
